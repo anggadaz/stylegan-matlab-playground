{
  "nbformat": 4,
  "nbformat_minor": 0,
  "metadata": {
    "colab": {
      "name": "stylegan-convertor.ipynb",
      "provenance": [],
      "collapsed_sections": []
    },
    "kernelspec": {
      "name": "python3",
      "display_name": "Python 3"
    }
  },
  "cells": [
    {
      "cell_type": "code",
      "metadata": {
        "id": "vBsHvl-hJJyF",
        "colab_type": "code",
        "colab": {
          "base_uri": "https://localhost:8080/",
          "height": 104
        },
        "outputId": "5821d2ff-1b23-418d-d3e2-5dfcc1f8f664"
      },
      "source": [
        "%tensorflow_version 1.x\n",
        "!git clone https://github.com/NVlabs/stylegan.git"
      ],
      "execution_count": null,
      "outputs": [
        {
          "output_type": "stream",
          "text": [
            "TensorFlow 1.x selected.\n",
            "Cloning into 'stylegan'...\n",
            "remote: Enumerating objects: 83, done.\u001b[K\n",
            "remote: Total 83 (delta 0), reused 0 (delta 0), pack-reused 83\u001b[K\n",
            "Unpacking objects: 100% (83/83), done.\n"
          ],
          "name": "stdout"
        }
      ]
    },
    {
      "cell_type": "code",
      "metadata": {
        "id": "PbuipmhELQtA",
        "colab_type": "code",
        "colab": {
          "base_uri": "https://localhost:8080/",
          "height": 34
        },
        "outputId": "f337cb51-df7c-464c-a1aa-e386a7739c5c"
      },
      "source": [
        "%cd stylegan"
      ],
      "execution_count": null,
      "outputs": [
        {
          "output_type": "stream",
          "text": [
            "/content/stylegan\n"
          ],
          "name": "stdout"
        }
      ]
    },
    {
      "cell_type": "code",
      "metadata": {
        "id": "GI26rIFGJYBp",
        "colab_type": "code",
        "colab": {}
      },
      "source": [
        "#import sys\n",
        "#sys.path.append(\"stylegan\")\n",
        "import dnnlib\n",
        "from dnnlib import tflib\n",
        "import pickle\n",
        "from scipy.io import savemat\n",
        "from google.colab import files\n",
        "\n",
        "def save_model_to_mat(url, filename):\n",
        "  \"\"\" Takes a url of a model stored in Google Drive and saves the weights in .mat format.\n",
        "  \"\"\"\n",
        "  dnnlib.tflib.init_tf()\n",
        "\n",
        "  with dnnlib.util.open_url(url) as f:\n",
        "      _G, _D, Gs = pickle.load(f)\n",
        "      \n",
        "  variables = dict()\n",
        "  for k, v in Gs.vars.items():\n",
        "    new_k = k.replace(\"/\", \"_\")\n",
        "    variables[new_k] = v.eval()\n",
        "\n",
        "  savemat(filename, variables, do_compression=True)"
      ],
      "execution_count": null,
      "outputs": []
    },
    {
      "cell_type": "code",
      "metadata": {
        "id": "T2_RwJ6QpMOs",
        "colab_type": "code",
        "cellView": "both",
        "colab": {}
      },
      "source": [
        "#@title Convert model weights\n",
        "\n",
        "url = 'https://drive.google.com/uc?id=1HC3VXl9oxLB5gQO5xcmqHwFMTUanzqtv' #@param {type:\"string\"}\n",
        "output_name = 'traintrack.mat' #@param {type:\"string\"}\n"
      ],
      "execution_count": null,
      "outputs": []
    },
    {
      "cell_type": "code",
      "metadata": {
        "id": "6QPRQO8_sd8y",
        "colab_type": "code",
        "colab": {
          "base_uri": "https://localhost:8080/",
          "height": 330
        },
        "outputId": "f0c05570-971b-4e60-b12d-eb08c246140d"
      },
      "source": [
        "# Convert the model\n",
        "save_model_to_mat(url, output_name)"
      ],
      "execution_count": null,
      "outputs": [
        {
          "output_type": "stream",
          "text": [
            "Downloading https://drive.google.com/uc?id=1HC3VXl9oxLB5gQO5xcmqHwFMTUanzqtv .... done\n",
            "WARNING:tensorflow:From /content/stylegan/dnnlib/tflib/network.py:142: The name tf.get_default_graph is deprecated. Please use tf.compat.v1.get_default_graph instead.\n",
            "\n",
            "WARNING:tensorflow:From /content/stylegan/dnnlib/tflib/network.py:150: The name tf.AUTO_REUSE is deprecated. Please use tf.compat.v1.AUTO_REUSE instead.\n",
            "\n",
            "WARNING:tensorflow:From /content/stylegan/dnnlib/tflib/tfutil.py:76: The name tf.VariableScope is deprecated. Please use tf.compat.v1.VariableScope instead.\n",
            "\n",
            "WARNING:tensorflow:From /content/stylegan/dnnlib/tflib/network.py:151: The name tf.get_variable_scope is deprecated. Please use tf.compat.v1.get_variable_scope instead.\n",
            "\n",
            "WARNING:tensorflow:From /content/stylegan/dnnlib/tflib/network.py:154: The name tf.placeholder is deprecated. Please use tf.compat.v1.placeholder instead.\n",
            "\n",
            "WARNING:tensorflow:From /content/stylegan/dnnlib/tflib/network.py:182: The name tf.global_variables is deprecated. Please use tf.compat.v1.global_variables instead.\n",
            "\n",
            "WARNING:tensorflow:From /content/stylegan/dnnlib/tflib/tfutil.py:200: The name tf.assign is deprecated. Please use tf.compat.v1.assign instead.\n",
            "\n",
            "WARNING:tensorflow:From <string>:373: where (from tensorflow.python.ops.array_ops) is deprecated and will be removed in a future version.\n",
            "Instructions for updating:\n",
            "Use tf.where in 2.0, which has the same broadcast rule as np.where\n"
          ],
          "name": "stdout"
        }
      ]
    },
    {
      "cell_type": "code",
      "metadata": {
        "id": "aQLxLZZZsWTL",
        "colab_type": "code",
        "colab": {}
      },
      "source": [
        "# Download the weights, or open the Files menu and right click to download\n",
        "files.download(output_name)"
      ],
      "execution_count": null,
      "outputs": []
    }
  ]
}